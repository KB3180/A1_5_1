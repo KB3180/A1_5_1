{
 "cells": [
  {
   "cell_type": "code",
   "execution_count": 1,
   "metadata": {},
   "outputs": [
    {
     "data": {
      "text/plain": [
       "'\\n3. We get information from the computer by giving it information and somehow get more information back. \\n\\n4. Some webpages can make noise for the person who is deaf know what to do. \\n\\n5. Using our other capabilities like our vision, hearing, etc. \\n\\n6. Snapchat. Sometimes the loading takes forever. Sometimes it freezes for a long time. Some things that can be fixed is the freezing. It could have been designed so that there would be no freezing. \\n\\n7. - We use technology for work \\n   - Social Media \\n    - Entertainment \\n    - etc. \\n    - Click with a Mouse \\n    We use a mouse to get to places on the internet. \\n    This would be a example of a Interface \\n    \\n9. The event handler would be the Mouse. The handler would be the Computer. \\n\\n10. I think 3D Images. They create images for interactions. \\n\\n11. I think Gesture Detection. It may not be able to pick up every gesture you make which would kind of make it unusable. \\n\\n12. Structure: Things that are related. A example would be a Computer and a Mouse \\n    Simple: What information is easy to understand and what information we cannot understand \\n    Visible: Use our eyes and use other gestures \\n    Feedback: Get more information back \\n    Tolerance: What information can we take and what information can we not take in \\n    Reuse: Design consistent around UI. What information can we use again \\n        \\n13. Some interactions could have been our vision and other gestures before the Mouse was invented. \\n\\n14. A example for a improvement that is not adopted because people are used to a existed system. I think a example would be controls for a video game. Over the years, controls for video games have changed! \\n\\n15. A. We can use gestures using our mouth to represent taste \\n    B. To change a different character, we can use our body gestures \\n    C. I am a Martian and I want to move so that I can run (Brainstorm a story using this sentence) \\n16. They can provide experiences and abilities for people who have disabilities by using body interactions and gestures.\\n\\n# Conclusion Questions \\nOn a Google Doc \\n'"
      ]
     },
     "execution_count": 1,
     "metadata": {},
     "output_type": "execute_result"
    }
   ],
   "source": [
    "\"\"\"\n",
    "A1_5_1_Barron.py \n",
    "Kellen Barron \n",
    "This will be questions from A1_5_1 \n",
    "\"\"\"\n",
    "\"\"\"\n",
    "3. We get information from the computer by giving it information and somehow get more information back. \n",
    "\n",
    "4. Some webpages can make noise for the person who is deaf know what to do. \n",
    "\n",
    "5. Using our other capabilities like our vision, hearing, etc. \n",
    "\n",
    "6. Snapchat. Sometimes the loading takes forever. Sometimes it freezes for a long time. Some things that can be fixed is the freezing. It could have been designed so that there would be no freezing. \n",
    "\n",
    "7. - We use technology for work \n",
    "   - Social Media \n",
    "    - Entertainment \n",
    "    - etc. \n",
    "    - Click with a Mouse \n",
    "    We use a mouse to get to places on the internet. \n",
    "    This would be a example of a Interface \n",
    "    \n",
    "9. The event handler would be the Mouse. The handler would be the Computer. \n",
    "\n",
    "10. I think 3D Images. They create images for interactions. \n",
    "\n",
    "11. I think Gesture Detection. It may not be able to pick up every gesture you make which would kind of make it unusable. \n",
    "\n",
    "12. Structure: Things that are related. A example would be a Computer and a Mouse \n",
    "    Simple: What information is easy to understand and what information we cannot understand \n",
    "    Visible: Use our eyes and use other gestures \n",
    "    Feedback: Get more information back \n",
    "    Tolerance: What information can we take and what information can we not take in \n",
    "    Reuse: Design consistent around UI. What information can we use again \n",
    "        \n",
    "13. Some interactions could have been our vision and other gestures before the Mouse was invented. \n",
    "\n",
    "14. A example for a improvement that is not adopted because people are used to a existed system. I think a example would be controls for a video game. Over the years, controls for video games have changed! \n",
    "\n",
    "15. A. We can use gestures using our mouth to represent taste \n",
    "    B. To change a different character, we can use our body gestures \n",
    "    C. I am a Martian and I want to move so that I can run (Brainstorm a story using this sentence) \n",
    "16. They can provide experiences and abilities for people who have disabilities by using body interactions and gestures.\n",
    "\n",
    "# Conclusion Questions \n",
    "On a Google Doc \n",
    "\"\"\""
   ]
  },
  {
   "cell_type": "code",
   "execution_count": null,
   "metadata": {},
   "outputs": [],
   "source": []
  }
 ],
 "metadata": {
  "kernelspec": {
   "display_name": "Python 3",
   "language": "python",
   "name": "python3"
  },
  "language_info": {
   "codemirror_mode": {
    "name": "ipython",
    "version": 3
   },
   "file_extension": ".py",
   "mimetype": "text/x-python",
   "name": "python",
   "nbconvert_exporter": "python",
   "pygments_lexer": "ipython3",
   "version": "3.7.4"
  }
 },
 "nbformat": 4,
 "nbformat_minor": 2
}
